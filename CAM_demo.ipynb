{
  "cells": [
    {
      "cell_type": "code",
      "source": [
        "from CAM import *\n",
        "from IPython.display import Image, display"
      ],
      "outputs": [],
      "execution_count": 40,
      "metadata": {}
    },
    {
      "cell_type": "code",
      "source": [
        "def show_me(pathtoimg):\n",
        "    GetHeatMap(pathtoimg,'/static','model_retrieval.tar')\n",
        "    return Image(filename='pathOutputFile.png')"
      ],
      "outputs": [],
      "execution_count": 41,
      "metadata": {
        "jupyter": {
          "source_hidden": true
        },
        "inputHidden": true
      }
    },
    {
      "cell_type": "code",
      "source": [
        "show_me('static/image2.png')"
      ],
      "outputs": [],
      "execution_count": null,
      "metadata": {}
    },
    {
      "cell_type": "code",
      "source": [],
      "outputs": [],
      "execution_count": null,
      "metadata": {}
    }
  ],
  "metadata": {
    "kernelspec": {
      "name": "python3",
      "language": "python",
      "display_name": "Python 3"
    },
    "language_info": {
      "name": "python",
      "version": "3.7.3",
      "mimetype": "text/x-python",
      "codemirror_mode": {
        "name": "ipython",
        "version": 3
      },
      "pygments_lexer": "ipython3",
      "nbconvert_exporter": "python",
      "file_extension": ".py"
    },
    "kernel_info": {
      "name": "python3"
    },
    "nteract": {
      "version": "0.15.0"
    }
  },
  "nbformat": 4,
  "nbformat_minor": 4
}